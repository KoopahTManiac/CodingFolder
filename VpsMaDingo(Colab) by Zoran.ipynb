{
  "nbformat": 4,
  "nbformat_minor": 0,
  "metadata": {
    "colab": {
      "name": "Untitled2.ipynb",
      "version": "0.3.2",
      "provenance": [],
      "collapsed_sections": []
    },
    "kernelspec": {
      "name": "python3",
      "display_name": "Python 3"
    },
    "accelerator": "GPU"
  },
  "cells": [
    {
      "cell_type": "code",
      "metadata": {
        "id": "w7r8hCEVds24",
        "colab_type": "code",
        "colab": {}
      },
      "source": [
        "#@title Run To Install And Setup Desktop {display-mode: \"form\"}\n",
        "\n",
        "from google.colab import output\n",
        "!sudo apt-get install xauth\n",
        "!apt-get install curl\n",
        "!curl https://winswitch.org/gpg.asc | apt-key add -\n",
        "!echo \"deb http://winswitch.org/ bionic main\" > /etc/apt/sources.list.d/winswitch.list;\n",
        "!apt-get install -y software-properties-common >& /dev/null;\n",
        "!add-apt-repository universe >& /dev/null;\n",
        "!apt-get update;\n",
        "!apt-get install winswitch;\n",
        "!apt-get install xpra;\n",
        "!sudo apt-get install mesa-utils\n",
        "!sudo apt-get install websockify\n",
        "!wget https://netix.dl.sourceforge.net/project/virtualgl/2.6.2/virtualgl_2.6.2_amd64.deb\n",
        "!dpkg -i virtualgl_2.6.2_amd64.deb\n",
        "!sudo apt-get install virtualgl\n",
        "!xauth list|grep `uname -n`\n",
        "!DISPLAY=:0; export DISPLAY\n",
        "!sudo apt install xfce4 gnome-terminal\n",
        "!sudo apt-get install xfce4-goodies\n",
        "!sudo apt-get install autossh\n",
        "!sudo apt-get install lxde\n",
        "!apt install lubuntu-desktop\n",
        "import os, psutil, IPython, uuid, time\n",
        "import ipywidgets as widgets\n",
        "\n",
        "from IPython.display import HTML, clear_output\n",
        "from google.colab import output\n",
        "\n",
        "!sudo apt-get install tightvncserver -y\n",
        "#!vncserver\n",
        "#!vncserver -kill :1\n",
        "!mkdir ~/.vnc/\n",
        "!echo -e \"#!/bin/bash\\n xrdb $HOME/.Xresources\\n lxsession -e LXDE -s Lubuntu &\" > ~/.vnc/xstartup\n",
        "!sudo chmod +x ~/.vnc/xstartup\n",
        "!export USER=root\n",
        "!export HOME=/root\n",
        "\n",
        "os.environ['HOME'] = \"/root\"\n",
        "os.environ['USER'] = \"root\"\n",
        "!echo -e ' PATH=\"/usr/local/sbin:/usr/local/bin:/usr/sbin:/usr/bin:/sbin:/bin:/usr/games:/usr/local/games\"\\n USER=\"root\"\\n HOME=\"/root\"' > /etc/environment\n",
        "\n",
        "!cat /etc/environment\n",
        "\n",
        "output.clear()\n",
        "print('All done!')\n"
      ],
      "execution_count": 0,
      "outputs": []
    },
    {
      "cell_type": "code",
      "metadata": {
        "id": "XBWKf1s3xh66",
        "colab_type": "code",
        "colab": {}
      },
      "source": [
        "#@title Select Desktop Env, Then Run This {display-mode: \"form\"}\n",
        "import os, psutil, IPython, uuid, time\n",
        "import ipywidgets as widgets\n",
        "\n",
        "desktopEnv = \"Lubuntu\" #@param [\"Lubuntu\", \"XFCE4\"]\n",
        "\n",
        "from IPython.display import HTML, clear_output\n",
        "from google.colab import output\n",
        "\n",
        "!mkdir ~/.vnc/\n",
        "if(desktopEnv == \"XFCE4\"):\n",
        "  !echo -e \"#!/bin/bash\\n xrdb $HOME/.Xresources\\n xfce4-session &\" > ~/.vnc/xstartup\n",
        "elif(desktopEnv == \"Lubuntu\"):\n",
        "  !echo -e \"#!/bin/bash\\n xrdb $HOME/.Xresources\\n lxsession -e LXDE -s Lubuntu &\" > ~/.vnc/xstartup\n",
        "!sudo chmod +x ~/.vnc/xstartup\n",
        "!export USER=root\n",
        "!export HOME=/root\n",
        "\n",
        "os.environ['HOME'] = \"/root\"\n",
        "os.environ['USER'] = \"root\"\n",
        "\n",
        "  \n",
        "!echo -e ' PATH=\"/usr/local/sbin:/usr/local/bin:/usr/sbin:/usr/bin:/sbin:/bin:/usr/games:/usr/local/games\"\\n USER=\"root\"\\n HOME=\"/root\"' > /etc/environment\n",
        "\n",
        "!cat /etc/environment\n",
        "\n",
        "output.clear()\n",
        "print('All done!')\n",
        "print(\"Desktop Setup: \" + desktopEnv)"
      ],
      "execution_count": 0,
      "outputs": []
    },
    {
      "cell_type": "code",
      "metadata": {
        "id": "_tG5MayOSMPL",
        "colab_type": "code",
        "colab": {}
      },
      "source": [
        "#@title Run To Setup Password {display-mode: \"form\"}\n",
        "from google.colab import output\n",
        "!vncpasswd\n",
        "output.clear()\n",
        "print('All done!')"
      ],
      "execution_count": 0,
      "outputs": []
    },
    {
      "cell_type": "code",
      "metadata": {
        "id": "LYqME0hNGvqs",
        "colab_type": "code",
        "colab": {}
      },
      "source": [
        "#@title Run To Start Tunnel, Select Name Under {display-mode: \"form\"}\n",
        "ServerAddressName = \"VpsMaDingoo\" #@param {type:\"string\"}\n",
        "Port = \"5999\" #@param {type:\"string\"}\n",
        "#@markdown SSH\n",
        "#@markdown User: root\n",
        "#@markdown Pass: root\n",
        "\n",
        "!echo -e \"root\\nroot\" | passwd root\n",
        "!sudo add-apt-repository ppa:x2go/stable\n",
        "!sudo apt-get update\n",
        "!sudo apt-get install x2goserver x2goserver-xsession\n",
        "!apt install x2golxdebindings\n",
        "!vncserver -kill :0\n",
        "!vncserver :0 -geometry 1920x1080\n",
        "from google.colab import output\n",
        "!wget https://raw.githubusercontent.com/ostajic/CodingFolder/master/sshd_config\n",
        "!cp sshd_config /etc/ssh/sshd_config\n",
        "!service ssh restart\n",
        "def AutoSSH(name,port,externport):\n",
        "  get_ipython().system_raw(\"autossh -M 0 -fNT -o 'StrictHostKeyChecking=no' -o 'ServerAliveInterval 300' -o 'ServerAliveCountMax 30' -R \" + name + \":\" + externport + \":localhost:\" + port + \" serveo.net\")\n",
        "AutoSSH(ServerAddressName, \"5900\",Port)\n",
        "\n",
        "def AutoSSHS(name,port):\n",
        "  get_ipython().system_raw(\"autossh -x -M 0 -fNT -o 'StrictHostKeyChecking=no' -o 'ServerAliveInterval 300' -o 'ServerAliveCountMax 30' -R \" + name + \":22:localhost:\" + port + \" serveo.net\")\n",
        "AutoSSHS(ServerAddressName+\"ssh\",\"22\")\n",
        "\n",
        "output.clear()\n",
        "print('All done!')\n",
        "print(\"Addres is: \" + ServerAddressName + \".serveo.net:\" + Port)\n",
        "print(\"SSH Addres is: \" + ServerAddressName + \"ssh\" + \".serveo.net:22\")"
      ],
      "execution_count": 0,
      "outputs": []
    },
    {
      "cell_type": "code",
      "metadata": {
        "id": "_CWT0SOX_FQz",
        "colab_type": "code",
        "colab": {}
      },
      "source": [
        "#@title Run This To Get VNC IN BROWSER {display-mode: \"form\"}\n",
        "!nvidia-xconfig --query-gpu-info\n",
        "!nvidia-xconfig --virtual=1920x1080 --busid PCI:0:4:0\n",
        "!vncserver -kill :0\n",
        "#!xauth add localhost/unix:0 MIT-MAGIC-COOKIE-1 c77169a6fa8139ea36f538e1c72e1b98\n",
        "!xpra start-desktop --bind-tcp=0.0.0.0:5900 --start \"lxsession -e LXDE -s Lubuntu\""
      ],
      "execution_count": 0,
      "outputs": []
    }
  ]
}